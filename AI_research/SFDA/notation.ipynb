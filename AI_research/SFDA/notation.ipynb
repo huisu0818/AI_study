{
 "cells": [
  {
   "cell_type": "markdown",
   "metadata": {},
   "source": [
    "# Notation"
   ]
  },
  {
   "cell_type": "markdown",
   "metadata": {},
   "source": [
    "- $n$: number of instances\n",
    "- $\\mathcal{D}$: Domain\n",
    "- $\\mathcal{X}$: Instance set\n",
    "- $d$: Feature dimensions\n",
    "- $\\mathcal{F}(x)$: Feature vector\n",
    "- $\\mathcal{Y}|\\mathcal{X}$: Prediction for instance $\\mathcal{X}$\n",
    "- $\\Phi$: Domain space\n",
    "- $\\mathbf{L}$: Source label set\n",
    "- $\\mathcal{L}$: Loss function\n",
    "- $\\delta$: Soft-max operation\n",
    "- $c$: Number of classes\n",
    "- $\\tilde{z}$: Noise vector\n",
    "- $\\Theta$: Model parameters\n",
    "- $\\mathcal{F}$: Feature extractor\n",
    "- $\\mathcal{C}$: Classifier\n",
    "- $\\mathcal{D}$: Domain discriminator\n",
    "- $G$: Generator\n",
    "- $\\mathcal{M}$: Model to be trained\n",
    "- $\\mathbf{M}$: Module\n",
    "- $\\mathcal{B}$: Memory bank\n",
    "- $\\mu$: Means\n",
    "- $\\sigma$: Standard deviation\n",
    "- $\\mathbb{E}$: Mathematical expectation\n",
    "- $P$: Marginal distribution\n",
    "- $Q$: Query\n",
    "- $K$: Key\n",
    "- $V$: Value\n",
    "- $\\mathcal{N}(\\mu, \\sigma^2)$: A Gaussian distribution with mean $\\mu$ and variance $\\sigma^2$"
   ]
  },
  {
   "cell_type": "markdown",
   "metadata": {},
   "source": [
    "# Math Expression"
   ]
  },
  {
   "cell_type": "markdown",
   "metadata": {},
   "source": [
    "- $\\{\\}$\n",
    "- $\\neq$\n",
    "- $\\verb|~|$\n",
    "- $log$, $\\rm{log}$, $\\log$\n",
    "- $\\pi$\n",
    "- $\\sum_{k=1}^{K}$\n",
    "- $\\cap$\n",
    "- $\\cup$\n",
    "- $\\times$\n",
    "- $\\mathbf{K}$\n",
    "- $\\rightarrow$\n",
    "- $\\cdot$\n",
    "- $\\ldots$\n",
    "- $\\forall$\n",
    "- $\\in$\n",
    "- $\\text{and}$\n",
    "- $\\left\\{\\|\\right\\}$\n",
    "- $\\circ$"
   ]
  },
  {
   "cell_type": "markdown",
   "metadata": {},
   "source": [
    "- 알파: $\\Alpha, \\alpha$\n",
    "- 베타: $\\Beta, \\beta$\n",
    "- 감마: $\\Gamma, \\gamma$\n",
    "- 델타: $\\Delta, \\delta$\n",
    "- 입실론: $\\Epsilon, \\epsilon$\n",
    "- 제타: $\\Zeta, \\zeta$\n",
    "- 에타: $\\Eta, \\eta$\n",
    "- 쎄타: $\\Theta, \\theta$\n",
    "- 람다: $\\Lambda, \\lambda$\n",
    "- 뮤: $\\Mu, \\mu$\n",
    "- 파이: $\\Pi, \\pi$\n",
    "- 로우: $\\Rho, \\rho$\n",
    "- 시그마: $\\Sigma, \\sigma$\n",
    "- 타우: $\\Tau, \\tau$\n",
    "- 오메가: $\\Omega, \\omega$"
   ]
  },
  {
   "cell_type": "markdown",
   "metadata": {},
   "source": [
    "# 특수 표기"
   ]
  },
  {
   "cell_type": "markdown",
   "metadata": {},
   "source": [
    "$$\n",
    "\\prod_{j\\in\\mathbb{C}_i} p_{ij}\n",
    "$$"
   ]
  },
  {
   "cell_type": "markdown",
   "metadata": {},
   "source": [
    "$$\n",
    "\\min_{\\theta_{\\mathcal{F}}, \\theta_{c_1}, \\theta_{c_2}} \\sum_{i=1}^{2} \\mathcal{L}_{\\text{cls}}\\left( C_i\\left( \\mathcal{F}\\left( \\mathcal{X}^s \\right) \\right), \\mathcal{Y}^s \\right)\n",
    "$$"
   ]
  },
  {
   "cell_type": "markdown",
   "metadata": {},
   "source": [
    "$$\n",
    "\\begin{cases}\n",
    "\\overrightarrow{\\varepsilon}\\left( \\mathcal{D}^t, \\mathcal{D}^I \\right)_{UDA} &= \\overrightarrow{\\varepsilon}(\\mathcal{D}^t, \\mathcal{D}^s) + \\overrightarrow{\\varepsilon}(\\mathcal{D}^s, \\mathcal{D}^I) \\\\\n",
    "\\overrightarrow{\\varepsilon}\\left( \\mathcal{D}^t, \\mathcal{D}^I \\right)_{SFDA} &= \\overrightarrow{\\varepsilon}(\\mathcal{D}^{t+}, \\mathcal{D}^t)\n",
    "\\end{cases}\n",
    "$$"
   ]
  },
  {
   "cell_type": "markdown",
   "metadata": {},
   "source": [
    "$$\n",
    "F = \\begin{bmatrix}\n",
    "F_{1,1} & \\cdots & F_{1,n_w} \\\\\n",
    "\\vdots & \\ddots & \\vdots \\\\\n",
    "F_{n_h,1} & \\cdots & F_{n_h,n_w}\n",
    "\\end{bmatrix}\n",
    "$$"
   ]
  },
  {
   "cell_type": "markdown",
   "metadata": {},
   "source": []
  }
 ],
 "metadata": {
  "language_info": {
   "name": "python"
  }
 },
 "nbformat": 4,
 "nbformat_minor": 2
}
