{
 "cells": [
  {
   "cell_type": "markdown",
   "metadata": {},
   "source": [
    "# SFDA Survey (Source-free Domain Adaptation)"
   ]
  },
  {
   "cell_type": "markdown",
   "metadata": {},
   "source": [
    "## 1. Introduction"
   ]
  },
  {
   "cell_type": "markdown",
   "metadata": {},
   "source": [
    "### UDA와 SFDA의 차이"
   ]
  },
  {
   "cell_type": "markdown",
   "metadata": {},
   "source": [
    "<img src=\"./Fig1.png\" alt=\"nn\" width=\"600\">"
   ]
  },
  {
   "cell_type": "markdown",
   "metadata": {},
   "source": [
    "- UDA: Source data, Target data, Source label에 접근 가능\n",
    "- SFDA: 오직 Target data에만 접근 가능 (Source에는 접근 불가)\n",
    "    - 정보 보호 및 저작권 문제로부터 자유로움\n",
    "    - 리소스가 제한된 장치에서도 학습 가능\n",
    "- MEMO: SFDA 연구는 여러 가지 기술적 접근 방식을 포함하고 있으며, 이들은 대체로 데이터 기반(data-based) 방법과 모델 기반(model-based) 방법으로 분류될 수 있습니다. 데이터 기반 방법은 주로 타겟 데이터의 재구성 및 증강을 통해 도메인 차이를 줄이는 반면, 모델 기반 방법은 주로 소스 모델의 지식을 유지하면서 타겟 도메인에 적응하는 방식을 사용합니다. 이러한 방법들 각각은 도메인 적응의 문제를 해결하는 데 있어 중요한 기여를 합니다."
   ]
  },
  {
   "cell_type": "markdown",
   "metadata": {},
   "source": [
    "### SFDA의 분류"
   ]
  },
  {
   "cell_type": "markdown",
   "metadata": {},
   "source": [
    "<img src=\"./Fig2.png\" alt=\"nn\" width=\"800\">"
   ]
  },
  {
   "cell_type": "markdown",
   "metadata": {},
   "source": [
    "<img src=\"./Table1.png\" alt=\"nn\" width=\"800\">"
   ]
  },
  {
   "cell_type": "markdown",
   "metadata": {},
   "source": [
    "## 2. Overview"
   ]
  },
  {
   "cell_type": "markdown",
   "metadata": {},
   "source": [
    "### Notation"
   ]
  },
  {
   "cell_type": "markdown",
   "metadata": {},
   "source": [
    "<img src=\"./Table2.png\" alt=\"nn\" width=\"400\">"
   ]
  },
  {
   "cell_type": "markdown",
   "metadata": {},
   "source": [
    "### SFDA의 작업"
   ]
  },
  {
   "cell_type": "markdown",
   "metadata": {},
   "source": [
    "- 소스 도메인 $\\mathcal{D}^{s} = \\{ \\{ \\mathcal{X}^s, \\mathcal{P}(\\mathcal{X}^s), d^s \\}, \\mathbf{L}^s \\}$에서 학습된 모델 $\\mathcal{M}$이 주어진다.\n",
    "- Pre-training stage: 소스 모델은 지도학습으로 pre-train된다.\n",
    "- Adaptation stage: 소스 도메인 데이터는 접근 불가능하며, SFDA의 목적은 Source-trained 모델이 Target domain $\\Phi^t = \\{\\{\\mathcal{X}^t, \\mathcal{P}(\\mathcal{X}^t), d^t \\}\\}$에 적응하도록 하는 것이다.\n",
    "    - 이때, $\\mathcal{M}(\\mathcal{X}^t) = \\mathcal{P}(\\mathcal{Y}^t|\\mathcal{X}^t)$ 의 모델의 출력이 높은 정확도를 갖도록 하는 것을 목표로 한다.\n",
    "    - $\\mathcal{P}(\\mathcal{Y}^t|\\mathcal{X}^t)$는 target data $\\mathcal{X}^t$에 대한 예측 결과이다."
   ]
  },
  {
   "cell_type": "markdown",
   "metadata": {},
   "source": [
    "### SFDA의 setting\n",
    "```대부분의 SFDA는 Closed-set, Single-Source 셋팅에 초점을 맞춘다```"
   ]
  },
  {
   "cell_type": "markdown",
   "metadata": {},
   "source": [
    "- 특징 공간의 동일성 여부\n",
    "    - 이질 도메인 적응(Heterogeneous DA): $\\mathcal{P}(\\mathcal{X}^s) \\neq \\mathcal{P}(\\mathcal{X}^t), d_s \\neq d_t$인 상태로, 분포 적응과 특징 공간 적응이 모두 필요한 상태\n",
    "    - 동질 도메인 적응(Homogeneous DA): $\\mathcal{P}(\\mathcal{X}^s) \\neq \\mathcal{P}(\\mathcal{X}^t), d_s = d_t$인 상태로 특징 공간이 동일한 상태로 분포 적응만 수행 (대부분의 SFDA)\n",
    "- 레이블 집합의 대응관계에 따른 분류\n",
    "    - Closed-set\n",
    "    - Partial-set\n",
    "    - Open-Set\n",
    "- 소스와 타겟 도메인 수에 따른 분류\n",
    "    - Single-Source\n",
    "    - Multi-Source\n",
    "    - Multi-Task"
   ]
  },
  {
   "cell_type": "markdown",
   "metadata": {},
   "source": [
    "<img src=\"./Fig3.png\" alt=\"nn\" width=\"600\">"
   ]
  },
  {
   "cell_type": "markdown",
   "metadata": {},
   "source": [
    "## 3. Data-Based Method"
   ]
  },
  {
   "cell_type": "markdown",
   "metadata": {},
   "source": [
    "- Domain-based Reconstruction: 모델에 내재된 소스 도메인 정보를 통해 소스 도메인 데이터를 모방하거나, 중간 도메인 혹은 다른 도메인을 재구성\n",
    "- Image-based information extraction: 레이블이 없는 타겟 도메인 데이터에서 잠재적인 데이터 구조나 클러스터링 정보를 탐색하여 타겟 데이터만으로 도메인 적응 작업을 수행"
   ]
  },
  {
   "cell_type": "markdown",
   "metadata": {},
   "source": [
    "### Domain-based Reconstruction"
   ]
  },
  {
   "cell_type": "markdown",
   "metadata": {},
   "source": [
    "#### [ Virtual Domain Generation ]"
   ]
  },
  {
   "cell_type": "markdown",
   "metadata": {},
   "source": [
    "$$\n",
    "\\mathcal{L}_{UDA_M} = \\mathcal{L}_{cls}(\\mathcal{C}(\\mathcal{F}(\\mathcal{X}^s)), \\mathcal{Y}^s)+\\mathcal{L}_{div}(\\mathcal{F}(\\mathcal{X}^s), \\mathcal{F}(\\mathcal{X}^t)) \\tag{1}\n",
    "$$\n",
    "\n",
    "- 이 함수는 UDA에서 모델의 소스 도메인에서 지도 학습을 수행함과 동시에 타겟 도메인의 분포를 직접 정렬하는 일반적 패러다임이다.\n",
    "- $\\mathcal{L}_{cls}$: 소스 도메인에서의 지도 학습 손실로, 주로 cross-entropy를 사용\n",
    "- $\\mathcal{L}_{div}$: 정렬에 사용되는 기준함수\n",
    "- 다만, SFDA는 $\\mathcal{X}^s$를 adaptation에 사용할 수 없다.\n",
    "- 따라서 VDG에서는 source data의 부재를 보충하기 위한 새로운 도메인을 구성한다."
   ]
  },
  {
   "cell_type": "markdown",
   "metadata": {},
   "source": [
    "$$\n",
    "\\mathcal{L}_{SFDA} = \\mathcal{L}_{gen}(\\mathcal{C}(\\mathcal{F}(\\mathcal{X}^v)))+\\mathcal{L}_{div}(\\mathcal{F}(\\mathcal{X}^v), \\mathcal{F}(\\mathcal{X}^t)) \\tag{2}\n",
    "$$\n",
    "\n",
    "- $\\mathcal{X}_v$: 가상 도메인을 의미한다.\n",
    "- $\\mathcal{L}_{gen}$: 가상 도메인의 생성 손실을 나타낸다.\n",
    "- 모델은 소스 도메인에서 사전 학습되었고, 따라서 모델의 출력을 탐색하여 도메인 분포를 시뮬레이션한다.\n",
    "- 식 3과 비교하였을 때, SFDA에서는 도메인 간의 정렬뿐만 아니라 가상 도메인 생성의 품질도 고려해야 한다.\n",
    "- 가상 도메인이 생성되면 SFDA의 정렬 문제는 UDA에서의 정렬 문제와 유사해진다.\n",
    "- ex:\n",
    "    - ADDA가 VDA-DA에서 사용된다.\n",
    "    - MMD가 STDA에서 사용된다.\n",
    "- 가상 도메인은 adversarial generarion 혹은 Gaussian distribution에 기반하여 생성될 수 있다."
   ]
  },
  {
   "cell_type": "markdown",
   "metadata": {},
   "source": [
    "$$\n",
    "\\mathcal{L(C, F, D,} G) = \\mathcal{L}_{adv}+\\mathcal{L}_{con} \\tag{3}\n",
    "$$\n",
    "    \n",
    "- GAN(Generative Adversarial Network)의 아이디어에서 나온 adversarial generation이다.\n",
    "- $\\mathcal{L}_{con}$: 도메인 간의 의미적 일관성을 유지하기 위한 손실함수이다.\n",
    "- $\\mathcal{L}_{adv}$: domain discriminator 간의 적대적 손실을 나타낸다.\n",
    "    - 이는 (4)의 방정식을 따라 유도된다."
   ]
  },
  {
   "cell_type": "markdown",
   "metadata": {},
   "source": [
    "$$\n",
    "\\mathcal{L}_{adv}(G) = \\mathbb{E}_{y,\\tilde{x}}[\\log \\mathcal{D}(1-G(y, \\tilde{z}))], \\\\\n",
    "\\mathcal{L}_{adv}(\\mathcal{D}) = \\mathbb{E}_{x_t \\verb|~| \\mathcal{X}_t}[\\log \\mathcal{D}(x_t)]+\\mathbb{E}_{y, \\tilde{z}}[\\log (1-\\mathcal{D}(G(y, \\tilde{z})))] \\tag{4}\n",
    "$$\n",
    "\n",
    "- $\\tilde{z}$: 노이즈 벡터를 나타낸다.\n",
    "- $G(y, \\tilde{z})$: 사전 정의된 레이블 $y$를 조건으로 하는 generator를 나타낸다.\n",
    "- 3C-GAN: generator에 의해 생성된 $x_v=G(y, \\tilde{z})$와 레이블 $y$ 사이의 의미적 유사성 강조\n",
    "- classifier: 성능 향상을 위해 deterministic constraint, weight constraint, clustering-based contraint 제안.\n",
    "- SDDA: domain discriminator 기반의 consistency loss 제안.\n",
    "- CPGA: contrastive loss 추가"
   ]
  },
  {
   "cell_type": "markdown",
   "metadata": {},
   "source": [
    "$$\n",
    "\\tilde{x}=G(\\tilde{z}),~~\\tilde{z} \\verb|~| \\mathcal{N}(0, 1) \\tag{5}\n",
    "$$\n",
    "    \n",
    "- VDG를 위해 Gaussian distribution을 기반으로 소스 도메인의 분포를 추정"
   ]
  },
  {
   "cell_type": "markdown",
   "metadata": {},
   "source": [
    "$$\n",
    "D^v(f_v)=\\sum_{k=1}^{K} \\pi_k\\mathcal{N}(f_v|\\mu_k, \\sigma^2I) \\tag{6}\n",
    "$$\n",
    "\n",
    "- 소스 도메인의 분포를 여러 가우시안 분포의 혼합으로 간주.\n",
    "- VDM-DA: 가상 도메인의 분포를 특징 공간에서 위의 가우시안 혼합 모델로 구성\n",
    "- $f_v$: 가상 특징\n",
    "- $\\pi_k$: 혼합 계수이며 $\\sum_{k=1}^{K} \\pi_k=1$이다.\n",
    "- 매개변수 추정을 위해 경험적으로 $K$를 범주의 수로 설정\n",
    "- 소스 분류기의 가중치가 암묵적으로 각 범주에 대한 prototypical information을 포함한다고 간주\n",
    "- 모델의 평균과 표준 편차를 소스 분류기에 기반하여 도출"
   ]
  },
  {
   "cell_type": "markdown",
   "metadata": {},
   "source": [
    "$$\n",
    "\\tilde{x}_{s, aug}=\\lambda\\tilde{x}_{s}^{i}+(1-\\lambda)\\tilde{x}_{s}^{j}, \\\\ \\tilde{y}_{s, aug}=\\lambda\\tilde{y}_{s}^{i}+(1-\\lambda)\\tilde{y}_{s}^{j} \\tag{7}\n",
    "$$\n",
    "\n",
    "- 가상 도메인을 위해 생성 모델을 사용하는 것은 비용이 많이 들 뿐만 아니라, 기본 데이터 패턴이 복잡할 때 도메인 일반화(domain generalization)를 잘 수행하기도 어렵다.\n",
    "- Non-generative 접근 시도: 타겟 도메인에서 신뢰할 수 있는 데이터를 직접 선택하여 가상 소스 도메인을 구성\n",
    "- 타겟 이미지를 소스 모델에 입력하여 예측 엔트로피가 높은 샘플을 소스 도메인 분포에 더 가까운 것으로 간주\n",
    "- 그러나 이 방법은 가상 소스 도메인에 대한 데이터 부족 문제를 갖는다.\n",
    "    - Du: 가상 소스 도메인을 구성하기 위해 선택할 수 있는 샘플의 수가 타겟 도메인의 $1\\over{10}$에 불과하다는 것을 발견\n",
    "- 이러한 문제를 해결하기 위해 Mixup을 이용하여 가상 소스 도메인 데이터를 확장\n",
    "- $\\lambda$: mixup계수\n",
    "- $\\tilde{x}_{s}^{i}$, $\\tilde{x}_{s}^{j}$: 가상 소스 도메인에서 예측 엔트로피에 의해 선택된 샘플\n",
    "- $\\tilde{y}_{s}^{i}$, $\\tilde{y}_{s}^{j}$: 해당 레이블\n",
    "- 증강된 소스 도메인: $D_{aug}^{s} = D^s\\cup \\tilde{D}^{aug}$, $\\tilde{D}^{aug}=\\{\\tilde{x}_{s, aug},\\tilde{y}_{s, aug}\\}$"
   ]
  },
  {
   "cell_type": "markdown",
   "metadata": {},
   "source": [
    "***"
   ]
  },
  {
   "cell_type": "markdown",
   "metadata": {},
   "source": [
    "#### [ Intra-domain Adversarial Exploration ]"
   ]
  },
  {
   "cell_type": "markdown",
   "metadata": {},
   "source": [
    "**Step 1** Source training:\n",
    "$$\\min_{\\theta_{\\mathcal{F}}, \\theta_{c_1}, \\theta_{c_2}} \\sum_{i=1}^{2} \\mathcal{L}_{\\text{cls}}\\left( C_i\\left( \\mathcal{F}\\left( \\mathcal{X}^s \\right) \\right), \\mathcal{Y}^s \\right)$$"
   ]
  },
  {
   "cell_type": "markdown",
   "metadata": {},
   "source": [
    "**Step 2** Maximum classifier prediction discrepancy:\n",
    "$$\\min_{\\theta_{\\mathcal{C}_1}, \\theta_{\\mathcal{C}_2}}\\mathcal{L}_{cls}(\\mathcal{X}^s, \\mathcal{Y}^s)-\\mathcal{L}_{dis}(\\mathcal{Y}_{1}^{t}|\\mathcal{X}^t, \\mathcal{Y}_{2}^{t}|\\mathcal{X}^t)$$"
   ]
  },
  {
   "cell_type": "markdown",
   "metadata": {},
   "source": [
    "**Step 3** Minimize classifier prediction discrepancy:\n",
    "$$\\min_{\\theta_{\\mathcal{F}}}\\mathcal{L}_{dis}(\\mathcal{Y}_{1}^{t}|\\mathcal{X}^t, \\mathcal{Y}_{2}^{t}|\\mathcal{X}^t)$$"
   ]
  },
  {
   "cell_type": "markdown",
   "metadata": {},
   "source": [
    "$$\n",
    "\\min_{\\theta_{\\mathcal{c}_t}} \\sum_{x \\in \\mathcal{X}_h^t} \\mathcal{L}_{\\text{dis}}\\left( p^s(x), p^t(x) \\right) - \\sum_{x \\in \\mathcal{X}_l^t} \\mathcal{L}_{\\text{dis}}\\left( p^s(x), p^t(x) \\right) \\tag{8}\n",
    "$$"
   ]
  },
  {
   "cell_type": "markdown",
   "metadata": {},
   "source": [
    "$$\n",
    "\\min_{\\theta_{\\mathcal{F}}} \\sum_{x \\in \\mathcal{X}^t} \\mathcal{L}_{\\text{dec}}\\left( p^s(x), p^t(x) \\right) \\tag{9}\n",
    "$$\n"
   ]
  },
  {
   "cell_type": "markdown",
   "metadata": {},
   "source": [
    "$$\n",
    "\\min_{\\theta_{\\mathcal{C}_t}}-\\sum_{i=1}^{n_t}\\left(\\alpha_{i}^{s} \\log \\left(\\sum_{k=1}^{K}p_{(i)k}^{st}\\right) + \\alpha_{i}^{t} \\log \\left(\\sum_{k=K+1}^{2K}p_{(i)k}^{st}\\right)\\right), \\\\\n",
    "\\min_{\\theta_{\\mathcal{F}}}-\\sum_{i=1}^{n_t}\\left(\\alpha_{i}^{t} \\log \\left(\\sum_{k=1}^{K}p_{(i)k}^{st}\\right) + \\alpha_{i}^{s} \\log \\left(\\sum_{k=K+1}^{2K}p_{(i)k}^{st}\\right)\\right) \\tag{10}\n",
    "$$"
   ]
  },
  {
   "cell_type": "markdown",
   "metadata": {},
   "source": [
    "$$\n",
    "\\min_{\\theta_{\\mathcal{C}_t}}\\sum_{x\\in{\\mathcal{X}_{h}^{t}}}\\mathcal{D}_{SKL}\\left(p^s(x),p^t(x)\\right)-\\sum_{x\\in{\\mathcal{X}_{l}^{t}}}\\mathcal{D}_{SKL}\\left(p^s(x),p^t(x)\\right), \\\\\n",
    "\\min_{\\theta_{\\mathcal{F}}}\\sum_{i=1}^{n_t}\\sum_{k=1}^{K}[-p_{i,k}^{s}\\log p_{i,k}^{t}-p_{i,k}^{t}\\log p_{i,k}^{s}] \\tag{11}\n",
    "$$"
   ]
  },
  {
   "cell_type": "markdown",
   "metadata": {},
   "source": [
    "$$\n",
    "\\begin{cases}\n",
    "\\overrightarrow{\\varepsilon}\\left( \\mathcal{D}^t, \\mathcal{D}^I \\right)_{UDA} &= \\overrightarrow{\\varepsilon}(\\mathcal{D}^t, \\mathcal{D}^s) + \\overrightarrow{\\varepsilon}(\\mathcal{D}^s, \\mathcal{D}^I) \\\\\n",
    "\\overrightarrow{\\varepsilon}\\left( \\mathcal{D}^t, \\mathcal{D}^I \\right)_{SFDA} &= \\overrightarrow{\\varepsilon}(\\mathcal{D}^{t+}, \\mathcal{D}^t)\n",
    "\\end{cases} \\tag{12}\n",
    "$$"
   ]
  },
  {
   "cell_type": "markdown",
   "metadata": {},
   "source": [
    "$$\n",
    "\\tilde{x}_{t} = x_t + \\frac{G(x_t)}{\\|G(x_t)\\|_2}\\epsilon, \\\\\n",
    "\\max_{\\theta_G}\\frac{1}{n_t}\\sum_{i=1}^{n_t}\\mathcal{L}_{cls}\\left(\\mathcal{C}(\\mathcal{F}(\\tilde{x}_t)), \\hat{y}_{t}^{i}\\right) \\tag{13}\n",
    "$$"
   ]
  },
  {
   "cell_type": "markdown",
   "metadata": {},
   "source": [
    "$$\n",
    "\\max_{\\theta_{\\mathcal{F}}, \\theta_{\\mathcal{C}}}\\frac{1}{n_t}\\sum_{i=1}^{n_t}\\mathcal{L}_{cls}\\left(\\mathcal{C}(\\mathcal{F}(\\tilde{x}_t)), \\hat{y}_{t}^{i}\\right) \\tag{14}\n",
    "$$"
   ]
  },
  {
   "cell_type": "markdown",
   "metadata": {},
   "source": [
    "$$\n",
    "\\mathcal{L}_{LSC} = -\\frac{1}{n} \\sum_{i=1}^{n} \\sum_{k=1}^{K} \\log \\left[ p(x_i) \\cdot \\mathbb{B}_S \\left( \\mathcal{N}_k \\right) \\right] + \\sum_{c=1}^{C} \\text{KL} \\left( \\overline{p}_c \\parallel q_c \\right), \\\\\n",
    "\\mathcal{N}_{\\{1, \\ldots, K\\}} = \\left\\{ \\mathcal{B}_F^j \\mid top - K \\left( \\cos \\left( \\mathcal{F} \\left( x_i \\right), \\mathcal{B}_F^j \\right) \\right), \\forall \\mathcal{B}_F^j \\in \\mathcal{B}_F \\right\\}, \\\\\n",
    "\\overline{p} = \\frac{1}{n} \\sum_{i=1}^{n} p_c \\left( x_i \\right), \\text{ and } \\text{q}_{\\{c=1, \\ldots, C\\}} = \\frac{1}{C} \\tag{15}\n",
    "$$\n"
   ]
  },
  {
   "cell_type": "markdown",
   "metadata": {},
   "source": [
    "$$\n",
    "\\mathcal{L}_{\\mathcal{N}} = -\\frac{1}{n_t}\\sum_{i}\\sum_{k\\in\\mathcal{N}_{K}^{i}}A_{ik}\\mathcal{B}_{S,k}^{T}p_i, \\\\\n",
    "\\mathcal{L}_{E} = -\\frac{1}{n_t}\\sum_{i}\\sum_{k\\in\\mathcal{N}_{K}^{i}}\\sum_{m\\in E_{M}^{k}}r\\mathcal{B}_{S, m}^{T}p_i \\tag{16}\n",
    "$$"
   ]
  },
  {
   "cell_type": "markdown",
   "metadata": {},
   "source": [
    "$$\n",
    "P\\left( \\mathcal{C}_i \\right) = \\prod_{j \\in \\mathcal{C}_i} p_{ij} = \\prod_{j \\in \\mathcal{C}_i} \\frac{e^{p_i^T p_j}}{\\sum_{k=1}^{N_t} e^{p_i^T p_k}}, \\\\\n",
    "P\\left( \\mathbb{B}_i \\right) = \\prod_{j \\in \\mathbb{B}_i} p_{ij} = \\prod_{j \\in \\mathbb{B}_i} \\frac{e^{p_i^T p_j}}{\\sum_{k=1}^{N_t} e^{p_i^T p_k}} \\tag{17}\n",
    "$$"
   ]
  },
  {
   "cell_type": "markdown",
   "metadata": {},
   "source": [
    "$$\n",
    "\\mathcal{L}_{\\text{content}} = \\left\\| \\mathcal{F}^N \\left( \\tilde{x}_t \\right) - \\mathcal{F}^N \\left( x_t \\right) \\right\\|_2, \\\\\n",
    "\\mathcal{L}_{\\text{style}} = \\frac{1}{N} \\sum_{n=1}^{N} \\left\\| \\mu_{\\text{current}}^n - \\mu_{\\text{stored}}^n \\right\\|_2 + \\left\\| \\sigma_{\\text{current}}^n - \\sigma_{\\text{stored}}^n \\right\\|_2 \\tag{18}\n",
    "$$"
   ]
  },
  {
   "cell_type": "markdown",
   "metadata": {},
   "source": [
    "$$\n",
    "\\mathcal{L}_{intra} = \\sigma \\left(\\tilde{F}_{i, j}\\right) \\left(\\frac{F_{i, j}-\\mu \\left(F_{i, j}\\right)}{\\sigma \\left(F_{i, j}\\right)}\\right) + \\mu \\left(\\tilde{F}_{i, j}\\right), \\\\\n",
    "\\mathcal{L}_{inter} = \\sigma \\left(\\tilde{F}_{k, i, j}\\right) \\left(\\frac{F_{k, i, j}-\\mu \\left(F_{k, i, j}\\right)}{\\sigma \\left(F_{k, i, j}\\right)}\\right) + \\mu \\left(\\tilde{F}_{k, i, j}\\right) \\tag{19}\n",
    "$$"
   ]
  },
  {
   "cell_type": "markdown",
   "metadata": {},
   "source": [
    "$$\n",
    "F = \\begin{bmatrix}\n",
    "F_{1,1} & \\cdots & F_{1,n_w} \\\\\n",
    "\\vdots & \\ddots & \\vdots \\\\\n",
    "F_{n_h,1} & \\cdots & F_{n_h,n_w}\n",
    "\\end{bmatrix}\n",
    "$$"
   ]
  },
  {
   "cell_type": "markdown",
   "metadata": {},
   "source": [
    "$$\n",
    "c_k = \\frac{\\sum_{x_t \\in \\mathcal{X}_t} \\delta_k \\left( \\mathcal{F} \\circ \\mathcal{G}_t (x_t) \\right) \\mathcal{G}_t (x_t)}\n",
    "{\\sum_{x_t \\in \\mathcal{X}_t} \\delta_k \\left( \\mathcal{F}_t (x_t) \\right)} \\tag{20}\n",
    "$$"
   ]
  },
  {
   "cell_type": "markdown",
   "metadata": {},
   "source": [
    "$$\n",
    "y_{\\tilde{t}}=\\text{arg}\\min_{k}\\mathcal{L}_{pse}(\\mathcal{G}(x_t), p_k) \\tag{21}\n",
    "$$"
   ]
  },
  {
   "cell_type": "markdown",
   "metadata": {},
   "source": [
    "$$\n",
    "y_{\\tilde{t}} = \\text{arg}\\min_{k}\\mathcal{F}\\circ\\mathcal{G}(x_t) \\tag{22}\n",
    "$$"
   ]
  },
  {
   "cell_type": "markdown",
   "metadata": {},
   "source": [
    "$$\n",
    "\\mathcal{L}_{ent} = -\\mathbb{E}_{x_t\\in\\mathcal{X}_t}\\sum_{k=1}^{K}\\delta_k(p_t(x_t))\\log\\delta_k(p_t(x_t)) \\tag{23}\n",
    "$$"
   ]
  },
  {
   "cell_type": "markdown",
   "metadata": {},
   "source": [
    "$$\n",
    "\\mathcal{L}_{div} = \\sum_{k=1}^{K}p_k\\log p_k \\tag{24}\n",
    "$$"
   ]
  },
  {
   "cell_type": "markdown",
   "metadata": {},
   "source": [
    "$$\n",
    "\\mathcal{L}_{IM}=\\mathcal{L}_{ent}+\\mathcal{L}_{div} \\tag{25}\n",
    "$$"
   ]
  },
  {
   "cell_type": "markdown",
   "metadata": {},
   "source": [
    "$$\n",
    "\\mathcal{L}_{Info} = -\\sum_{v^{+}\\in V^{+}}\\log \\frac{\\text{exp}(u^{T}v^{+}/\\tau)}{\\text{exp}(u^{T}v^{+}/\\tau)+\\sum_{v^{-}\\in V^{-}}\\text{exp}(u^{T}v^{-}/\\tau)} \\tag{26}\n",
    "$$"
   ]
  },
  {
   "cell_type": "markdown",
   "metadata": {},
   "source": [
    "$$\n",
    "\\mathcal{L}^{1}_{\\text{cdc}} = -\\sum_{m=1}^{M} \\mathbb{I}_{\\hat{y}_u = m} \\log \\frac{\\exp\\left(u^T w_s^m / \\tau\\right)}{\\sum_{j=1}^{M} \\exp\\left(u^T w_s^j / \\tau\\right)} \\tag{27}\n",
    "$$\n"
   ]
  },
  {
   "cell_type": "markdown",
   "metadata": {},
   "source": [
    "$$\n",
    "\\mathcal{L}_{cdc}^{2} = -\\log \\frac{\\text{exp}(s_{ij})}{\\sum_{v=1}^{b}\\mathbb{I}_{v\\neq i}|\\gamma_{iv}|\\text{exp}(s_{iv})} \\tag{28}\n",
    "$$"
   ]
  },
  {
   "cell_type": "markdown",
   "metadata": {},
   "source": [
    "$$\n",
    "\\mathcal{L}_{cdc}^{3} = -\\sum_{x_q\\in X_t}\\log \\frac{\\text{exp}(q^{T}k_{+}^{t-m}/\\tau)\\gamma_{+}^{t-m}}{\\sum_{i=0}^{N}\\text{exp}(q^{t}k_{i}^{t-m}/\\tau)\\gamma_{i}^{t-m}} \\tag{29}\n",
    "$$"
   ]
  },
  {
   "cell_type": "markdown",
   "metadata": {},
   "source": [
    "$$\n",
    "\\mathcal{L}_{Attn_{self}}(Q, K, V) = softmax\\left(\\frac{QK^{T}}{\\sqrt{d_k}}\\right)V \\tag{30}\n",
    "$$"
   ]
  },
  {
   "cell_type": "markdown",
   "metadata": {},
   "source": [
    "$$\n",
    "\\mathcal{L}_{Attn_{cross}}(Q_s, K_t, V_t) = softmax\\left(\\frac{Q_{s}K_{t}^{T}}{\\sqrt{d_k}}\\right)V_t \\tag{31}\n",
    "$$"
   ]
  }
 ],
 "metadata": {
  "language_info": {
   "name": "python"
  }
 },
 "nbformat": 4,
 "nbformat_minor": 2
}
