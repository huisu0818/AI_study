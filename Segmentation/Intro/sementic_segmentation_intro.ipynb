{
 "cells": [
  {
   "cell_type": "markdown",
   "metadata": {},
   "source": [
    "# Introduction of Segmentation\n",
    "Image Segmentation Using Deep Learning: A Survey [ 2020  ·  Shervin Minaee, Yuri Boykov, Fatih Porikli, Antonio Plaza, Nasser Kehtarnavaz, Demetri Terzopoulos ]\n",
    "\n",
    "https://paperswithcode.com/paper/image-segmentation-using-deep-learning-a"
   ]
  },
  {
   "cell_type": "markdown",
   "metadata": {},
   "source": [
    "### [ 3 Common CV tasks ]\n",
    "***"
   ]
  },
  {
   "cell_type": "markdown",
   "metadata": {},
   "source": [
    "<img src=\"./CV_task.jpeg\" width=600>\n",
    "\n",
    "[1] https://www.v7labs.com/blog/what-is-computer-vision\n",
    "\n",
    "- Classification: Single object에 대해서 object의 class를 구분하는 task.\n",
    "\n",
    "- Detection: Multiple object에 대해서 각 object의 위치를 bounding box로 찾고, class를 구분하는 task.\n",
    "\n",
    "- Segmentation: Multiple object에 대해 pixel level에서 classification 하는 task."
   ]
  },
  {
   "cell_type": "markdown",
   "metadata": {},
   "source": [
    "### [ Image Segmentation tasks ]\n",
    "***"
   ]
  },
  {
   "cell_type": "markdown",
   "metadata": {},
   "source": [
    "<img src=\"./segmentation_task.png\" width=500>\n",
    "\n",
    "[2] https://engineer-mole.tistory.com/273\n",
    "\n",
    "- Semantic Segmentation: 이미지 내에서 각 pixel을 semantic class로 구분\n",
    "\n",
    "- Instance Segmentation: 이미지 내에서 각 object를 식별하고, pixel level에서 분할 및 구분 (각 객체의 경계를 명확히 구분)\n",
    "\n",
    "- Panoptic Segmentation: [ Semantic + Instance ]의 방법으로 셀 수 있는 Thing class는 Instance로, 셀 수 없는 Stuff class는 Semantic으로 진행"
   ]
  },
  {
   "cell_type": "markdown",
   "metadata": {},
   "source": [
    "### [ Traditional Segmentation method before Deep Learning ]\n",
    "***"
   ]
  },
  {
   "cell_type": "markdown",
   "metadata": {},
   "source": [
    "<img src=\"./image_segmentation_methods.png\" width=600>\n",
    "\n",
    "[3] https://www.v7labs.com/blog/what-is-computer-vision\n",
    "\n",
    "- DL 이전에는 전통적 ML기법, 수학적 방법, 특징추출 등의 방법을 통하여 Segmentation task를 수행했다."
   ]
  },
  {
   "cell_type": "markdown",
   "metadata": {},
   "source": [
    "### [ Deep Learing based Segmentation ]\n",
    "***\n"
   ]
  },
  {
   "cell_type": "markdown",
   "metadata": {},
   "source": [
    "<img src=\"./DL_Semantic_segmentation.png\" width=700>\n",
    "\n",
    "[4] Shervin Minaee, Yuri Boykov, Fatih Porikli, Antonio Plaza, Nasser Kehtarnavaz, and Demetri Terzopoulos, \"Image Segmentation Using Deep Learning: A Survey\", arXiv:2001.05566v5 [cs.CV] 15 Nov 2020"
   ]
  },
  {
   "cell_type": "markdown",
   "metadata": {},
   "source": [
    "### [ 10 Category of DL-based Segmentation ]\n",
    "***"
   ]
  },
  {
   "cell_type": "markdown",
   "metadata": {},
   "source": [
    "- 1. Fully Convolutional Network: FCN, ParseNet\n",
    "- 2. Convolutional Models with Graphical Models: CNN+CRF\n",
    "- 3. Encoder-Decoder Based Models: Deconvolution Network, SegNet, U-Net, V-Net\n",
    "- 4. Multi-Scale and Pyramid Network Based Models: PSPN\n",
    "- 5. R-CNN Based Models (for Instance Segmentation): Masked-RCNN\n",
    "- 6. Dilated Convolutional Models and DeepLab Family: DeepLab\n",
    "- 7. Recurrent Neural Network Based Models: LSTM\n",
    "- 8. Attention-Based Models\n",
    "- 9. Generative Models and Adversarial Training\n",
    "- 10. CNN Models With Active Contour Models\n",
    "- 11. Others"
   ]
  },
  {
   "cell_type": "markdown",
   "metadata": {},
   "source": [
    "### [ Other Popular Models ]\n",
    "***"
   ]
  },
  {
   "cell_type": "markdown",
   "metadata": {},
   "source": [
    "- DETER, built for End-to-End object detection with transformer and with slight modifications works well for panoptic segmentation\n",
    "\n",
    "- FastFCN which uses Joint Pyramid Upsampling(JPU) module to upsample low-resolution feature maps to high-resolution feature maps\n",
    "\n",
    "- Reverse Attention Network that trains the model to capture the opposite concept (i.e., features that are not associated with a target class) as well\n",
    "\n",
    "- Pyramid Attention Network that combines attention mechanisms and spatial pyramid pooling mechanism\n",
    "\n",
    "- Segmentation modules with EfficientNet backbone are now being used widely."
   ]
  },
  {
   "cell_type": "markdown",
   "metadata": {},
   "source": [
    "### [ Segmentation 연구주제 ]\n",
    "***"
   ]
  },
  {
   "cell_type": "markdown",
   "metadata": {},
   "source": [
    "- Deep Network Architecture: 세분화 정확도 개선\n",
    "\n",
    "- Real-time & Efficient Model: 학습 및 연산 속도, 메모리 효율성 개선\n",
    "\n",
    "- Data 부족 개선:\n",
    "    - Semi-Supervised Learning: 일부만 정답 label 존재\n",
    "    - Weakly Supervised Learning: 불확실한 label (ex: Object Detection label -> Segmentation)\n",
    "    - Unsupervied Learning: 정답 label 없이 학습\n",
    "    \n",
    "- Domain Adaptation: 일반화 성능 개선 (도메인의 변화에 적응)"
   ]
  }
 ],
 "metadata": {
  "language_info": {
   "name": "python"
  }
 },
 "nbformat": 4,
 "nbformat_minor": 2
}
