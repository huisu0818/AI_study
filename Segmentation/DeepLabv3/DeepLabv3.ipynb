{
 "cells": [
  {
   "cell_type": "markdown",
   "metadata": {},
   "source": [
    "# DeepLabv3+\n",
    "Encoder-Decoder with Atrous Separable Convolution for Semantic Image Segmentation [ ECCV 2018  ·  Liang-Chieh Chen, Yukun Zhu, George Papandreou, Florian Schroff, Hartwig Adam  ]\n",
    "\n",
    "https://paperswithcode.com/paper/encoder-decoder-with-atrous-separable\n",
    "\n",
    "https://kuklife.tistory.com/121"
   ]
  },
  {
   "cell_type": "markdown",
   "metadata": {},
   "source": [
    "### [ Abstract ]\n",
    "***"
   ]
  },
  {
   "cell_type": "markdown",
   "metadata": {},
   "source": [
    "- DeepLab V1: Atrous Convolution을 적용\n",
    "    - Receptive field를 넓혀서 더 많은 context 정보를 활용하여 segmentation\n",
    "    - Parameter 수를 유지함으로써 메모리 절약\n",
    "\n",
    "- DeepLab V2: Atrous Spatial Pyramid Pooling 을 통해 multi-scale의 feature를 학습하여 더 정확한 segmentation을 달성\n",
    "    - Atrous convolution에서 rate 값을 조절하여 여러 rate의 conv를 통해 multi-scale의 feature를 학습하고, 주변 환경을 고려한 segmentation을 구현\n",
    "\n",
    "- DeepLab V3: 기존 resnet 구조에 Atrous Convolution을 적용하여 더 깊은 layer를 쌓고, 더 dense한 feature map 형성\n",
    "    - Max pooling 을 줄이고, Atrous Convolution을 통해 parameter 수는 유지하되, down-scale 되는 정도를 적게 유지함으로써 더 큰 feature map을 구성한다.\n",
    "\n",
    "- DeepLab V3+: Depthwise Separable Convolution과 Atrous Convolution을 결합한 Atrous Separable Convolution의 활용.\n",
    "    - 효율적인 파라미터 사용: Depthwise Separable Convolution의 특성 중 하나는 parameter의 효율적인 사용이다. 각 입력 채널에 대해 독립적인 convolution을 수행하고, 이후 atrous convolution을 통해 특성을 결합하기 때문에 파라미터 수가 크게 줄어든다. Atrous Convolution은 컨볼루션 필터 내의 간격을 늘려 넓은 receptive field를 제공하면서도 parameter를 추가하지 않는 장점이 있습니다. Atrous Separable Convolution은 이러한 두 가지 기법을 결합하여 효율적으로 파라미터를 사용하고, 동시에 넓은 receptive field를 제공합니다.\n",
    "    - 고해상도 특성 맵 유지: Atrous Separable Convolution은 고해상도 특성 맵을 유지하면서도 넓은 receptive field를 제공한다. 이는 세분화 작업과 같은 작업에서 공간적인 정보를 보존하는 데 매우 중요하다. 효율적인 파라미터 사용으로 인해 더 깊은 네트워크를 구성할 수 있으며, 이는 더 복잡한 특징을 학습할 수 있고 더 정확한 세분화 결과를 얻을 수 있다.\n",
    "    - 메모리 및 연산 비용 절감: Depthwise Separable Convolution과 Atrous Convolution은 각각 메모리 및 연산 비용을 절감하는 효과가 있다. 이를 결합하여 Atrous Separable Convolution은 더 효율적인 네트워크를 구성할 수 있게 한다. 효율적인 네트워크 구조는 더 빠른 학습 및 추론을 가능하게 하고, 제한된 리소스를 보유한 장치에서도 성능을 향상시킬 수 있다.\n"
   ]
  },
  {
   "cell_type": "markdown",
   "metadata": {},
   "source": [
    "### [ Architecture ]\n",
    "***"
   ]
  },
  {
   "cell_type": "markdown",
   "metadata": {},
   "source": [
    "<img src=\"./DeepLab1.png\" width=400>\n",
    "\n",
    "\n",
    "- Atous Separable Convolution 사용\n",
    "    - 더 넓은 receptive field (더 많은 context)\n",
    "    - parameter 수의 감소 (메모리 및 연산비용 감소)\n",
    "    - 더 큰 feature map 유지 (공간 정보 보존)\n",
    "\n",
    "- ASPP 사용\n",
    "    - multi-scale feature를 학습 (주변 환경 효과적으로 고려: 작은 object와 큰 object에 모두 robust)\n",
    "\n",
    "- Encoder-Decoder 구조를 사용\n",
    "    - upsampling 과정에서 손실된 정보를 고려하여 upsampling\n",
    "    - U-Net과 유사하게 intermediate connection을 사용"
   ]
  },
  {
   "cell_type": "markdown",
   "metadata": {},
   "source": [
    "### [ Atrous Convolution ]\n",
    "***"
   ]
  },
  {
   "cell_type": "markdown",
   "metadata": {},
   "source": [
    "<img src=\"./DeepLab2.png\" width=500>\n",
    "\n",
    "\n",
    "- 필터의 내부 parameter를 0으로 고정하여 비우는 기법\n",
    "- 더 넓은 receptive field (더 많은 context)\n",
    "- parameter 수의 감소 (메모리 및 연산비용 감소)\n",
    "- 더 큰 feature map 유지 (공간 정보 보존)\n",
    "- Pooling 대신에 Convolution을 통해 feature map의 크기를 줄여감"
   ]
  },
  {
   "cell_type": "markdown",
   "metadata": {},
   "source": [
    "### [ Atrous Spatial Pyramid Pooling (ASPP) ]\n",
    "***"
   ]
  },
  {
   "cell_type": "markdown",
   "metadata": {},
   "source": [
    "<img src=\"./DeepLab3.png\" width=500>\n",
    "\n",
    "- Atrous Spatial Pyramid Pooling\n",
    "    - multi-scale의 feature를 학습하여 더 정확한 segmentation을 달성\n",
    "    - rate 값의 조절을 통해 multi-scale의 feature를 학습하고 결합하여 주변 환경을 고려한 segmentation 가능"
   ]
  },
  {
   "cell_type": "markdown",
   "metadata": {},
   "source": [
    "### [ Depthwise Separable Convolution ]\n",
    "***"
   ]
  },
  {
   "cell_type": "markdown",
   "metadata": {},
   "source": [
    "<img src=\"./DeepLab4.png\" width=200>\n",
    "\n",
    "- 기존의 convolution 방법"
   ]
  },
  {
   "cell_type": "markdown",
   "metadata": {},
   "source": [
    "<img src=\"./DeepLab5.png\" width=400>\n",
    "\n",
    "- Depthwise convolution\n",
    "    - input의 channel을 분리하여 각 채널에 하나의 필터를 적용하여 convolution\n",
    "    - parameter 수를 줄일 수 있다\n",
    "    - Convolution: $3\\times 3\\times 3$\n",
    "    - Depthwise Convolution: $3\\times 3$"
   ]
  },
  {
   "cell_type": "markdown",
   "metadata": {},
   "source": [
    "<img src=\"./DeepLab6.png\" width=400>\n",
    "\n",
    "- Depthwise separable convolution\n",
    "    - Depthwise convolution의 결과에 $1\\times 1$ conv 적용\n",
    "    - 일반적인 conv에 비해 같은 size의 feature map을 더 작은 parameter를 이용하여 형성\n",
    "    - Convolution: $3\\times 3\\times 3\\times 10 = 270$\n",
    "    - Depthwise Separable Convolution: $(3\\times 3\\times 3) + (3\\times 10) =57$"
   ]
  },
  {
   "cell_type": "markdown",
   "metadata": {},
   "source": [
    "### [ Atrous Depthwise Convolution ]\n",
    "***"
   ]
  },
  {
   "cell_type": "markdown",
   "metadata": {},
   "source": [
    "<img src=\"./DeepLab7.png\" width=700>\n",
    "\n",
    "- Atrous depthwise convolution\n",
    "    - Depthwise separable convolution과 Atrous convolution을 결합"
   ]
  },
  {
   "cell_type": "markdown",
   "metadata": {},
   "source": [
    "### [ Summary ]\n",
    "***"
   ]
  },
  {
   "cell_type": "markdown",
   "metadata": {},
   "source": [
    "- Atrous depthwise convolution 을 이용하여 receptive field를 넓히고, parameter 수는 줄이고, feature map의 크기는 크게 유지하여 deep하고, 좋은 성능의 모델을 구성했다\n",
    "\n",
    "- Atrous Spatial Pyramid Pooling 을 통해 multi-scale의 feature를 학습하여 multi-scale segmentation을 가능하게 했다.\n",
    "\n",
    "- Encoder-Decoder 구조를 가지고 있다.\n"
   ]
  },
  {
   "cell_type": "markdown",
   "metadata": {},
   "source": []
  }
 ],
 "metadata": {
  "language_info": {
   "name": "python"
  }
 },
 "nbformat": 4,
 "nbformat_minor": 2
}
