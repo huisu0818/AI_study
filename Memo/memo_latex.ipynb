{
 "cells": [
  {
   "cell_type": "markdown",
   "metadata": {},
   "source": [
    "### Notation\n",
    "***"
   ]
  },
  {
   "cell_type": "markdown",
   "metadata": {},
   "source": [
    "- $n$: number of instances\n",
    "- $\\mathcal{D}$: Domain\n",
    "- $\\mathcal{X}$: Instance set\n",
    "- $d$: Feature dimensions\n",
    "- $\\mathcal{F}(x)$: Feature vector\n",
    "- $\\mathcal{Y}|\\mathcal{X}$: Prediction for instance $\\mathcal{X}$\n",
    "- $\\Phi$: Domain space\n",
    "- $\\mathbf{L}$: Source label set\n",
    "- $\\mathcal{L}$: Loss function\n",
    "- $\\delta$: Soft-max operation\n",
    "- $c$: Number of classes\n",
    "- $\\tilde{z}$: Noise vector\n",
    "- $\\Theta$: Model parameters\n",
    "- $\\mathcal{F}$: Feature extractor\n",
    "- $\\mathcal{C}$: Classifier\n",
    "- $\\mathcal{D}$: Domain discriminator\n",
    "- $G$: Generator\n",
    "- $\\mathcal{M}$: Model to be trained\n",
    "- $\\mathbf{M}$: Module\n",
    "- $\\mathcal{B}$: Memory bank\n",
    "- $\\mu$: Means\n",
    "- $\\sigma$: Standard deviation\n",
    "- $\\mathbb{E}$: Mathematical expectation\n",
    "- $P$: Marginal distribution\n",
    "- $Q$: Query\n",
    "- $K$: Key\n",
    "- $V$: Value\n",
    "- $\\mathcal{N}(\\mu, \\sigma^2)$: A Gaussian distribution with mean $\\mu$ and variance $\\sigma^2$"
   ]
  },
  {
   "cell_type": "markdown",
   "metadata": {},
   "source": [
    "### Math Expression\n",
    "***"
   ]
  },
  {
   "cell_type": "markdown",
   "metadata": {},
   "source": [
    "- $\\{\\}$\n",
    "- $\\not=$\n",
    "- $\\neq$\n",
    "- $\\verb|~|$\n",
    "- $log$, $\\rm{log}$, $\\log$\n",
    "- $\\pi$\n",
    "- $\\sum_{k=1}^{K}$\n",
    "- $\\cap$\n",
    "- $\\cup$\n",
    "- $\\times$\n",
    "- $\\mathbf{K}$\n",
    "- $\\rightarrow$\n",
    "- $\\cdot$\n",
    "- $\\ldots$\n",
    "- $\\forall$\n",
    "- $\\text{and}$\n",
    "- $\\left\\{\\|\\right\\}$\n",
    "- $\\circ$\n",
    "- $\\in$\n",
    "- $\\not\\in$\n",
    "- $a \\mid b$\n",
    "- $a \\nmid b$ \n",
    "- $a \\equiv b$\n",
    "- $a \\not\\equiv b$\n",
    "- $\\pm$\n",
    "- $\\mp$\n",
    "- $\\nabla$"
   ]
  },
  {
   "cell_type": "markdown",
   "metadata": {},
   "source": [
    "- 알파: $\\Alpha, \\alpha$\n",
    "- 베타: $\\Beta, \\beta$\n",
    "- 감마: $\\Gamma, \\gamma$\n",
    "- 델타: $\\Delta, \\delta$\n",
    "- 입실론: $\\Epsilon, \\epsilon$\n",
    "- 제타: $\\Zeta, \\zeta$\n",
    "- 에타: $\\Eta, \\eta$\n",
    "- 쎄타: $\\Theta, \\theta$\n",
    "- 람다: $\\Lambda, \\lambda$\n",
    "- 뮤: $\\Mu, \\mu$\n",
    "- 파이: $\\Pi, \\pi$\n",
    "- 로우: $\\Rho, \\rho$\n",
    "- 시그마: $\\Sigma, \\sigma$\n",
    "- 타우: $\\Tau, \\tau$\n",
    "- 오메가: $\\Omega, \\omega$"
   ]
  },
  {
   "cell_type": "markdown",
   "metadata": {},
   "source": [
    "### 특수 표기\n",
    "***"
   ]
  },
  {
   "cell_type": "markdown",
   "metadata": {},
   "source": [
    "$$\n",
    "\\prod_{j\\in\\mathbb{C}_i} p_{ij} \\tag{1}\n",
    "$$"
   ]
  },
  {
   "cell_type": "markdown",
   "metadata": {},
   "source": [
    "$$\n",
    "\\min_{\\theta_{\\mathcal{F}}, \\theta_{c_1}, \\theta_{c_2}} \\sum_{i=1}^{2} \\mathcal{L}_{\\text{cls}}\\left( C_i\\left( \\mathcal{F}\\left( \\mathcal{X}^s \\right) \\right), \\mathcal{Y}^s \\right)\n",
    "\\tag{2}\n",
    "$$"
   ]
  },
  {
   "cell_type": "markdown",
   "metadata": {},
   "source": [
    "$$\n",
    "\\begin{cases}\n",
    "\\overrightarrow{\\varepsilon}\\left( \\mathcal{D}^t, \\mathcal{D}^I \\right)_{UDA} &= \\overrightarrow{\\varepsilon}(\\mathcal{D}^t, \\mathcal{D}^s) + \\overrightarrow{\\varepsilon}(\\mathcal{D}^s, \\mathcal{D}^I) \\\\\n",
    "\\overrightarrow{\\varepsilon}\\left( \\mathcal{D}^t, \\mathcal{D}^I \\right)_{SFDA} &= \\overrightarrow{\\varepsilon}(\\mathcal{D}^{t+}, \\mathcal{D}^t)\n",
    "\\end{cases}\n",
    "\\tag{3}\n",
    "$$"
   ]
  },
  {
   "cell_type": "markdown",
   "metadata": {},
   "source": [
    "$$\n",
    "F = \\begin{bmatrix}\n",
    "F_{1,1} & \\cdots & F_{1,n_w} \\\\\n",
    "\\vdots & \\ddots & \\vdots \\\\\n",
    "F_{n_h,1} & \\cdots & F_{n_h,n_w}\n",
    "\\end{bmatrix}\n",
    "\\tag{4}\n",
    "$$"
   ]
  },
  {
   "cell_type": "markdown",
   "metadata": {},
   "source": [
    "$$\n",
    "\\begin{align}\n",
    "221 &= 35 \\cdot 6 + 11 \\\\\n",
    "35 &= 3 \\cdot 11 + 2 \\\\\n",
    "11 &= 5 \\cdot 2 + 1 \\\\\n",
    "2 &= 2 \\cdot 1 + 0 \\\\\n",
    "\\end{align}\n",
    "\\tag{5}\n",
    "$$"
   ]
  },
  {
   "cell_type": "markdown",
   "metadata": {},
   "source": [
    "$$\n",
    "\\tilde{y}^i =\n",
    "\\begin{cases}\n",
    "\\hat{y}_t^i, & \\text{if} \\ p_t^i \\geq \\tau \\\\\n",
    "\\text{mode}(y^{1i}, y^{2i},\\ldots, y^{Mi}), & \\text{if} \\  p_t^i < \\tau\n",
    "\\end{cases}\n",
    "\\tag{6}\n",
    "$$"
   ]
  },
  {
   "cell_type": "markdown",
   "metadata": {},
   "source": [
    "$$\n",
    "\\begin{pmatrix}\n",
    "1 & 2 & 3\\\\\n",
    "a & b & c\n",
    "\\end{pmatrix}\n",
    "\\tag{7}\n",
    "$$"
   ]
  },
  {
   "cell_type": "markdown",
   "metadata": {},
   "source": [
    "### Table\n",
    "***"
   ]
  },
  {
   "cell_type": "markdown",
   "metadata": {},
   "source": [
    "<div style=\"display: flex; justify-content: center;\">\n",
    "    <table style=\"border: 1px solid black; border-collapse: collapse; text-align: center;\">\n",
    "        <tr>\n",
    "            <th style=\"border: 1px solid black; padding: 5px;\">ICode (16-23)</th>\n",
    "            <th style=\"border: 1px solid black; padding: 5px;\">Unused (12-15)</th>\n",
    "            <th style=\"border: 1px solid black; padding: 5px;\">Mask (8-11)</th>\n",
    "            <th style=\"border: 1px solid black; padding: 5px;\">CC (6-7)</th>\n",
    "            <th style=\"border: 1px solid black; padding: 5px;\">id (2-5)</th>\n",
    "            <th style=\"border: 1px solid black; padding: 5px;\">State (1)</th>\n",
    "            <th style=\"border: 1px solid black; padding: 5px;\">Mode (0)</th>\n",
    "        </tr>\n",
    "    </table>\n",
    "</div>"
   ]
  },
  {
   "cell_type": "markdown",
   "metadata": {},
   "source": [
    "### Figure\n",
    "***"
   ]
  },
  {
   "cell_type": "markdown",
   "metadata": {},
   "source": [
    "<div style=\"display: flex; justify-content: center;\">\n",
    "    <img src=\"./Fig1.png\" alt=\"nn\" width=\"600\">\n",
    "</div>"
   ]
  },
  {
   "cell_type": "markdown",
   "metadata": {},
   "source": [
    "### Text\n",
    "***"
   ]
  },
  {
   "cell_type": "markdown",
   "metadata": {},
   "source": [
    "<p align=\"center\", style=\"font-size:40px; font-weight:bold;\"> TEXT TEST </p>"
   ]
  },
  {
   "cell_type": "markdown",
   "metadata": {},
   "source": [
    "<ul align=\"left\", style=\"font-size:16px; font-weight:;\">\n",
    "    <li>첫 번째 항목</li>\n",
    "    <ul>\n",
    "        <li>첫 번째 항목의 하위 항목</li>\n",
    "        <ul>\n",
    "            <li>첫 번째 항목의 하위 항목의 하위 항목</li>\n",
    "        </ul>\n",
    "        <li>두 번째 하위 항목</li>\n",
    "    </ul>\n",
    "    <li>두 번째 항목</li>\n",
    "</ul>"
   ]
  },
  {
   "cell_type": "markdown",
   "metadata": {},
   "source": [
    "<ul align=\"center\", style=\"font-size:16px; font-weight:;\">\n",
    "    첫 줄<br>\n",
    "    둘째 줄<br>\n",
    "    셋째 줄\n",
    "</ul>"
   ]
  }
 ],
 "metadata": {
  "language_info": {
   "name": "python"
  }
 },
 "nbformat": 4,
 "nbformat_minor": 2
}
